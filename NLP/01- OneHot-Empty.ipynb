{
 "cells": [
  {
   "cell_type": "markdown",
   "metadata": {
    "slideshow": {
     "slide_type": "subslide"
    }
   },
   "source": [
    "<p style=\"text-align:right;\">الخطوة الأولى : تجهيز الأمثلة\n",
    "    \n",
    "</p>"
   ]
  },
  {
   "cell_type": "code",
   "execution_count": 1,
   "metadata": {
    "slideshow": {
     "slide_type": "fragment"
    }
   },
   "outputs": [],
   "source": [
    "documents = [\"رجل يعض كلب.\", \"كلب يغض رجل.\", \"كلب يأكل لحم.\", \"رجل يأكل لحم.\"]"
   ]
  },
  {
   "cell_type": "markdown",
   "metadata": {
    "slideshow": {
     "slide_type": "subslide"
    }
   },
   "source": [
    "<p style=\"text-align:right;\">الخطوة الثانية : معالجة الأمثلة و حذف النقط\n",
    "    \n",
    "</p>"
   ]
  },
  {
   "cell_type": "code",
   "execution_count": 2,
   "metadata": {
    "scrolled": true,
    "slideshow": {
     "slide_type": "fragment"
    }
   },
   "outputs": [
    {
     "data": {
      "text/plain": [
       "['رجل يعض كلب', 'كلب يغض رجل', 'كلب يأكل لحم', 'رجل يأكل لحم']"
      ]
     },
     "execution_count": 2,
     "metadata": {},
     "output_type": "execute_result"
    }
   ],
   "source": [
    "# معالجة الأمثلة\n",
    "processed_docs = [#]\n",
    "#عرض الأمثلة\n",
    "processed_docs"
   ]
  },
  {
   "cell_type": "markdown",
   "metadata": {
    "slideshow": {
     "slide_type": "subslide"
    }
   },
   "source": [
    "<p style=\"text-align:right;\">الخطوة الثالثة :إنشاء قاموس المفردات\n",
    "    \n",
    "</p>"
   ]
  },
  {
   "cell_type": "code",
   "execution_count": 3,
   "metadata": {
    "slideshow": {
     "slide_type": "fragment"
    }
   },
   "outputs": [
    {
     "name": "stdout",
     "output_type": "stream",
     "text": [
      "{'رجل': 1, 'يعض': 2, 'كلب': 3, 'يغض': 4, 'يأكل': 5, 'لحم': 6}\n"
     ]
    }
   ],
   "source": [
    "# إنشاء قاموس\n",
    "\n",
    "# إنشاء تعداد\n",
    "\n",
    "# إنشاء حلقة على الأمثلة\n",
    "# وترقيم المفردات\n"
   ]
  },
  {
   "cell_type": "markdown",
   "metadata": {
    "slideshow": {
     "slide_type": "subslide"
    }
   },
   "source": [
    "<p style=\"text-align:right;\">الخطوة الرابعة :إنشاءخط الترميز الأحادي للمفردات\n",
    "    \n",
    "</p>"
   ]
  },
  {
   "cell_type": "code",
   "execution_count": 4,
   "metadata": {
    "slideshow": {
     "slide_type": "fragment"
    }
   },
   "outputs": [],
   "source": [
    "def get_onehot_vector(somestring):\n",
    "    #عمل قائمة\n",
    "\n",
    "    \n",
    "    # عمل حلقة للمرور على المثال المعطى\n",
    "    # و إنشاء تمثيل للجملة\n"
   ]
  },
  {
   "cell_type": "markdown",
   "metadata": {
    "slideshow": {
     "slide_type": "subslide"
    }
   },
   "source": [
    "<p style=\"text-align:right;\">الخطوة الأخيرة :إختبار الوظيفة\n",
    "    \n",
    "</p>"
   ]
  },
  {
   "cell_type": "code",
   "execution_count": 5,
   "metadata": {
    "slideshow": {
     "slide_type": "fragment"
    }
   },
   "outputs": [
    {
     "name": "stdout",
     "output_type": "stream",
     "text": [
      "كلب يغض رجل\n"
     ]
    },
    {
     "data": {
      "text/plain": [
       "[[0, 0, 1, 0, 0, 0], [0, 0, 0, 1, 0, 0], [1, 0, 0, 0, 0, 0]]"
      ]
     },
     "execution_count": 5,
     "metadata": {},
     "output_type": "execute_result"
    }
   ],
   "source": [
    "# عرض الجملة الأولى\n",
    "print(processed_docs[1])\n",
    "\n",
    "# إظهار تمثيل خط الترميز الأحادي للجملة الأولى\n"
   ]
  },
  {
   "cell_type": "markdown",
   "metadata": {
    "slideshow": {
     "slide_type": "subslide"
    }
   },
   "source": [
    "<p style=\"text-align:right;\">تجريب جملة جديدة\n",
    "    \n",
    "</p>"
   ]
  },
  {
   "cell_type": "code",
   "execution_count": 7,
   "metadata": {
    "slideshow": {
     "slide_type": "fragment"
    }
   },
   "outputs": [
    {
     "data": {
      "text/plain": [
       "[[1, 0, 0, 0, 0, 0], [0, 0, 0, 0, 1, 0], [0, 0, 0, 0, 0, 0]]"
      ]
     },
     "execution_count": 7,
     "metadata": {},
     "output_type": "execute_result"
    }
   ],
   "source": [
    "get_onehot_vector(\"رجل يأكل فاكهة\") \n",
    " "
   ]
  },
  {
   "cell_type": "markdown",
   "metadata": {
    "slideshow": {
     "slide_type": "slide"
    }
   },
   "source": [
    "<p style=\"text-align:right;\">sklearn الطريقة الثانية بإستخدام\n",
    "    \n",
    "</p>\n",
    "\n",
    "<p style=\"text-align:right;\">أولا الأمثلة الأربعة\n",
    "    \n",
    "</p>"
   ]
  },
  {
   "cell_type": "code",
   "execution_count": 8,
   "metadata": {
    "slideshow": {
     "slide_type": "fragment"
    }
   },
   "outputs": [],
   "source": [
    "S1 = 'كلب يعض رجل'\n",
    "S2 = 'رجل يعض كلب'\n",
    "S3 = 'كلب يأكل لحم'\n",
    "S4 = 'رجل يأكل طعام'"
   ]
  },
  {
   "cell_type": "markdown",
   "metadata": {
    "slideshow": {
     "slide_type": "subslide"
    }
   },
   "source": [
    "<p style=\"text-align:right;\">الخطوة الثانية : معالجة مسبقة للأمثلة\n",
    "    \n",
    "</p>"
   ]
  },
  {
   "cell_type": "code",
   "execution_count": 9,
   "metadata": {
    "slideshow": {
     "slide_type": "fragment"
    }
   },
   "outputs": [
    {
     "name": "stdout",
     "output_type": "stream",
     "text": [
      "The data:  [['كلب', 'يعض', 'رجل'], ['رجل', 'يعض', 'كلب'], ['كلب', 'يأكل', 'لحم'], ['رجل', 'يأكل', 'طعام']]\n"
     ]
    }
   ],
   "source": [
    "# تقسيم الجمل\n",
    "data = [S1.split(), S2.split(), S3.split(), S4.split()]\n",
    "# طباعة البيانات\n",
    "print(\"The data: \",data)\n"
   ]
  },
  {
   "cell_type": "markdown",
   "metadata": {
    "slideshow": {
     "slide_type": "subslide"
    }
   },
   "source": [
    "<p style=\"text-align:right;\">الخطوة الأخيرة : إستخدام خط الترميز الأحادي\n",
    "    \n",
    "</p>"
   ]
  },
  {
   "cell_type": "code",
   "execution_count": 11,
   "metadata": {
    "slideshow": {
     "slide_type": "fragment"
    }
   },
   "outputs": [
    {
     "name": "stdout",
     "output_type": "stream",
     "text": [
      "Onehot Encoded Matrix:\n",
      " [[0. 1. 0. 1. 1. 0. 0. 0.]\n",
      " [1. 0. 0. 1. 0. 0. 1. 0.]\n",
      " [0. 1. 1. 0. 0. 0. 0. 1.]\n",
      " [1. 0. 1. 0. 0. 1. 0. 0.]]\n"
     ]
    }
   ],
   "source": [
    "# إستدعاء خط الترميز الأحادي \n",
    "\n",
    "#OneHotEncoder إستخدام \n",
    "\n",
    "\n",
    "print(\"Onehot Encoded Matrix:\\n\",onehot_encoded)"
   ]
  },
  {
   "cell_type": "code",
   "execution_count": null,
   "metadata": {
    "slideshow": {
     "slide_type": "skip"
    }
   },
   "outputs": [],
   "source": []
  }
 ],
 "metadata": {
  "celltoolbar": "Slideshow",
  "kernelspec": {
   "display_name": "Python 3",
   "language": "python",
   "name": "python3"
  },
  "language_info": {
   "codemirror_mode": {
    "name": "ipython",
    "version": 3
   },
   "file_extension": ".py",
   "mimetype": "text/x-python",
   "name": "python",
   "nbconvert_exporter": "python",
   "pygments_lexer": "ipython3",
   "version": "3.8.3"
  }
 },
 "nbformat": 4,
 "nbformat_minor": 4
}
