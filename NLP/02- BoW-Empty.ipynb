{
 "cells": [
  {
   "cell_type": "markdown",
   "metadata": {
    "slideshow": {
     "slide_type": "subslide"
    }
   },
   "source": [
    "<p style=\"text-align:right;\">الخطوة الأولى : تجهيز الأمثلة\n",
    "    \n",
    "</p>"
   ]
  },
  {
   "cell_type": "code",
   "execution_count": 1,
   "metadata": {
    "slideshow": {
     "slide_type": "fragment"
    }
   },
   "outputs": [],
   "source": [
    "documents = [\"رجل يعض كلب.\", \"كلب يعض رجل.\", \"كلب يأكل لحم.\", \"رجل يأكل طعام.\"]"
   ]
  },
  {
   "cell_type": "markdown",
   "metadata": {
    "slideshow": {
     "slide_type": "subslide"
    }
   },
   "source": [
    "<p style=\"text-align:right;\">الخطوة الثانية : معالجة الأمثلة و حذف النقط\n",
    "    \n",
    "</p>"
   ]
  },
  {
   "cell_type": "code",
   "execution_count": 2,
   "metadata": {
    "scrolled": true,
    "slideshow": {
     "slide_type": "fragment"
    }
   },
   "outputs": [
    {
     "data": {
      "text/plain": [
       "['رجل يعض كلب', 'كلب يعض رجل', 'كلب يأكل لحم', 'رجل يأكل طعام']"
      ]
     },
     "execution_count": 2,
     "metadata": {},
     "output_type": "execute_result"
    }
   ],
   "source": [
    "# معالجة الأمثلة\n",
    "processed_docs = [#]\n",
    "#عرض الأمثلة\n",
    "processed_docs"
   ]
  },
  {
   "cell_type": "markdown",
   "metadata": {
    "slideshow": {
     "slide_type": "subslide"
    }
   },
   "source": [
    "<p style=\"text-align:right;\">الخطوة الثالثة :إنشاء تمثيل حقيبة الكلمات\n",
    "   \n",
    "    \n",
    "</p>"
   ]
  },
  {
   "cell_type": "code",
   "execution_count": 4,
   "metadata": {
    "slideshow": {
     "slide_type": "fragment"
    }
   },
   "outputs": [
    {
     "name": "stdout",
     "output_type": "stream",
     "text": [
      "Our vocabulary:  {'رجل': 0, 'يعض': 5, 'كلب': 2, 'يأكل': 4, 'لحم': 3, 'طعام': 1}\n"
     ]
    }
   ],
   "source": [
    "# لإستخراج سمات النص CountVectorizer  إستدعاء \n",
    "\n",
    "# بناء تمثيل حقيبة الكلمات\n",
    "\n",
    "# طباعة ربط المفردات\n",
    "print(\"Our vocabulary: \", #)\n",
    "\n",
    "\n",
    "         "
   ]
  },
  {
   "cell_type": "markdown",
   "metadata": {
    "slideshow": {
     "slide_type": "subslide"
    }
   },
   "source": [
    "<p style=\"text-align:right;\">عرض تمثيل الأمثلة\n",
    "    \n",
    "</p>"
   ]
  },
  {
   "cell_type": "code",
   "execution_count": 5,
   "metadata": {
    "slideshow": {
     "slide_type": "fragment"
    }
   },
   "outputs": [
    {
     "name": "stdout",
     "output_type": "stream",
     "text": [
      "BoW representation for 'كلب يعض رجل':  [[1 0 1 0 0 1]]\n",
      "BoW representation for 'رجل يعض كلب:  [[1 0 1 0 0 1]]\n"
     ]
    }
   ],
   "source": [
    "print(\"BoW representation for 'كلب يعض رجل': \", #)\n",
    "print(\"BoW representation for 'رجل يعض كلب: \",#)"
   ]
  },
  {
   "cell_type": "markdown",
   "metadata": {
    "slideshow": {
     "slide_type": "subslide"
    }
   },
   "source": [
    "<p style=\"text-align:right;\">تجريب جملة جديدة\n",
    "    \n",
    "</p>"
   ]
  },
  {
   "cell_type": "code",
   "execution_count": 7,
   "metadata": {
    "slideshow": {
     "slide_type": "fragment"
    }
   },
   "outputs": [
    {
     "name": "stdout",
     "output_type": "stream",
     "text": [
      "Bow representation for 'رجل  و رجل صديقان': [[2 0 0 0 0 0]]\n"
     ]
    }
   ],
   "source": [
    "temp = count_vect.transform([\"رجل  و رجل صديقان\"])\n",
    "print(\"Bow representation for 'رجل  و رجل صديقان':\", temp.toarray()) "
   ]
  },
  {
   "cell_type": "markdown",
   "metadata": {
    "slideshow": {
     "slide_type": "slide"
    }
   },
   "source": [
    "<p style=\"text-align:right;\">الخطوة الإضافية :ماذا لو عوضا عن معرفة كم مرة ظهرت الكلمة في الجمل نرغب في معرفة لو هل ظهرت الجملة من عدمها\n",
    "    \n",
    "</p>"
   ]
  },
  {
   "cell_type": "code",
   "execution_count": 9,
   "metadata": {
    "slideshow": {
     "slide_type": "fragment"
    }
   },
   "outputs": [
    {
     "name": "stdout",
     "output_type": "stream",
     "text": [
      "Bow representation for 'رجل و رجل صديقان': [[1 0 0 0 0 0]]\n"
     ]
    }
   ],
   "source": [
    "#بناء تمثيل حقيبة الكلمات الثنائية\n",
    "count_vect = CountVectorizer(#)\n",
    "bow_rep_bin = count_vect.fit_transform(processed_docs)\n",
    "temp = count_vect.transform([\"رجل و رجل صديقان\"])\n",
    "print(\"Bow representation for 'رجل و رجل صديقان':\", temp.toarray())"
   ]
  }
 ],
 "metadata": {
  "celltoolbar": "Slideshow",
  "kernelspec": {
   "display_name": "Python 3",
   "language": "python",
   "name": "python3"
  },
  "language_info": {
   "codemirror_mode": {
    "name": "ipython",
    "version": 3
   },
   "file_extension": ".py",
   "mimetype": "text/x-python",
   "name": "python",
   "nbconvert_exporter": "python",
   "pygments_lexer": "ipython3",
   "version": "3.8.3"
  }
 },
 "nbformat": 4,
 "nbformat_minor": 4
}
