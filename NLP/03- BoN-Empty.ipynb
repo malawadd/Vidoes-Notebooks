{
 "cells": [
  {
   "cell_type": "markdown",
   "metadata": {
    "slideshow": {
     "slide_type": "subslide"
    }
   },
   "source": [
    "<p style=\"text-align:right;\">الخطوة الأولى : تجهيز الأمثلة\n",
    "    \n",
    "</p>"
   ]
  },
  {
   "cell_type": "code",
   "execution_count": 1,
   "metadata": {
    "slideshow": {
     "slide_type": "fragment"
    }
   },
   "outputs": [],
   "source": [
    "documents = [\"رجل يعض كلب.\", \"كلب يعض رجل.\", \"كلب يأكل لحم.\", \"رجل يأكل لحم.\"]"
   ]
  },
  {
   "cell_type": "markdown",
   "metadata": {
    "slideshow": {
     "slide_type": "subslide"
    }
   },
   "source": [
    "<p style=\"text-align:right;\">الخطوة الثانية : معالجة الأمثلة و حذف النقط\n",
    "    \n",
    "</p>"
   ]
  },
  {
   "cell_type": "code",
   "execution_count": 2,
   "metadata": {
    "scrolled": true,
    "slideshow": {
     "slide_type": "fragment"
    }
   },
   "outputs": [
    {
     "data": {
      "text/plain": [
       "['رجل يعض كلب', 'كلب يعض رجل', 'كلب يأكل لحم', 'رجل يأكل لحم']"
      ]
     },
     "execution_count": 2,
     "metadata": {},
     "output_type": "execute_result"
    }
   ],
   "source": [
    "# معالجة الأمثلة\n",
    "processed_docs = [#]\n",
    "#عرض الأمثلة\n",
    "processed_docs"
   ]
  },
  {
   "cell_type": "markdown",
   "metadata": {
    "slideshow": {
     "slide_type": "subslide"
    }
   },
   "source": [
    "<p style=\"text-align:right;\">الخطوة الثالثة :إنشاء تمثيل حقيبة النجرامات\n",
    "   \n",
    "    \n",
    "</p>"
   ]
  },
  {
   "cell_type": "code",
   "execution_count": 3,
   "metadata": {
    "slideshow": {
     "slide_type": "fragment"
    }
   },
   "outputs": [],
   "source": [
    "# لإستخراج سمات النص CountVectorizer  إستدعاء \n",
    "\n",
    "# لإنشاء ن-جرام أحادي و ثنائي و ثلاثي CountVectorizer إستخدام \n",
    "\n",
    "# بناء تمثيل حقيبة النجرام للبيانات\n",
    "\n",
    "        "
   ]
  },
  {
   "cell_type": "markdown",
   "metadata": {
    "slideshow": {
     "slide_type": "subslide"
    }
   },
   "source": [
    "<p style=\"text-align:right;\">عرض ربط المفردات\n",
    "    \n",
    "</p>"
   ]
  },
  {
   "cell_type": "code",
   "execution_count": 4,
   "metadata": {
    "slideshow": {
     "slide_type": "fragment"
    }
   },
   "outputs": [
    {
     "name": "stdout",
     "output_type": "stream",
     "text": [
      "Our Vocabulary {'رجل': 0, 'يعض': 13, 'كلب': 5, 'رجل يعض': 3, 'يعض كلب': 15, 'رجل يعض كلب': 4, 'كلب يعض': 8, 'يعض رجل': 14, 'كلب يعض رجل': 9, 'يأكل': 11, 'لحم': 10, 'كلب يأكل': 6, 'يأكل لحم': 12, 'كلب يأكل لحم': 7, 'رجل يأكل': 1, 'رجل يأكل لحم': 2}\n"
     ]
    }
   ],
   "source": [
    "print(\"Our Vocabulary\", #)"
   ]
  },
  {
   "cell_type": "markdown",
   "metadata": {
    "slideshow": {
     "slide_type": "subslide"
    }
   },
   "source": [
    "<p style=\"text-align:right;\">تصور التمثيل\n",
    "    \n",
    "</p>"
   ]
  },
  {
   "cell_type": "code",
   "execution_count": 7,
   "metadata": {
    "slideshow": {
     "slide_type": "fragment"
    }
   },
   "outputs": [
    {
     "name": "stdout",
     "output_type": "stream",
     "text": [
      "Bon representation for 'كلب يعض رجل':  [[1 0 0 1 1 1 0 0 0 0 0 0 0 1 0 1]]\n",
      "Bon representation for 'رجل يعض كلب:  [[1 0 0 0 0 1 0 0 1 1 0 0 0 1 1 0]]\n"
     ]
    }
   ],
   "source": [
    "print(\"Bon representation for 'كلب يعض رجل': \", #)\n",
    "print(\"Bon representation for 'رجل يعض كلب: \",#)"
   ]
  },
  {
   "cell_type": "markdown",
   "metadata": {
    "slideshow": {
     "slide_type": "slide"
    }
   },
   "source": [
    "<p style=\"text-align:right;\">ننظر إلى تمثيل حقيبة النجرامات لجملة جديد \n",
    "    \n",
    "</p>"
   ]
  },
  {
   "cell_type": "code",
   "execution_count": 8,
   "metadata": {
    "slideshow": {
     "slide_type": "fragment"
    }
   },
   "outputs": [
    {
     "name": "stdout",
     "output_type": "stream",
     "text": [
      "Bon representation for 'رجل و رجل أصدقاء': [[2 0 0 0 0 0 0 0 0 0 0 0 0 0 0 0]]\n"
     ]
    }
   ],
   "source": [
    "#بناء تمثيل حقيبة الكلمات الثنائية\n",
    "\n",
    "temp = count_vect.transform([\"رجل و رجل أصدقاء\"])\n",
    "print(\"Bon representation for 'رجل و رجل أصدقاء':\", #)"
   ]
  },
  {
   "cell_type": "markdown",
   "metadata": {
    "slideshow": {
     "slide_type": "subslide"
    }
   },
   "source": [
    "![image alt >](img/09.png)"
   ]
  },
  {
   "cell_type": "code",
   "execution_count": null,
   "metadata": {
    "slideshow": {
     "slide_type": "skip"
    }
   },
   "outputs": [],
   "source": []
  }
 ],
 "metadata": {
  "celltoolbar": "Slideshow",
  "kernelspec": {
   "display_name": "Python 3",
   "language": "python",
   "name": "python3"
  },
  "language_info": {
   "codemirror_mode": {
    "name": "ipython",
    "version": 3
   },
   "file_extension": ".py",
   "mimetype": "text/x-python",
   "name": "python",
   "nbconvert_exporter": "python",
   "pygments_lexer": "ipython3",
   "version": "3.8.3"
  }
 },
 "nbformat": 4,
 "nbformat_minor": 4
}
